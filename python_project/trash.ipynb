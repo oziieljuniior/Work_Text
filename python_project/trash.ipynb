{
 "cells": [],
 "metadata": {
  "kernelspec": {
   "display_name": "venv",
   "language": "python",
   "name": "python3"
  },
  "language_info": {
   "codemirror_mode": {
    "name": "ipython",
    "version": 3
   },
   "file_extension": ".py",
   "mimetype": "text/x-python",
   "name": "python",
   "nbconvert_exporter": "python",
   "pygments_lexer": "ipython3",
   "version": "3.10.6 (main, Nov 14 2022, 16:10:14) [GCC 11.3.0]"
  },
  "orig_nbformat": 4,
  "vscode": {
   "interpreter": {
    "hash": "e9f22b3d9b0d3dfff956e1433865cb0955face225c6cc11f1d3055d6d53a47a7"
   }
  }
 },
 "nbformat": 4,
 "nbformat_minor": 2
}
